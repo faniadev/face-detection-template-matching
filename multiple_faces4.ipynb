{
 "cells": [
  {
   "cell_type": "code",
   "execution_count": null,
   "metadata": {},
   "outputs": [],
   "source": [
    "import cv2\n",
    "import numpy as np\n",
    "from matplotlib import pyplot as plt\n",
    "\n",
    "img = cv2.imread('150980.jpg',0)\n",
    "#img = cv2.resize(img,(640,480))\n",
    "\n",
    "template = cv2.imread('150980_template.jpg',0)\n",
    "w, h = template.shape[::-1]\n",
    "\n",
    "#Apply template matching\n",
    "res = cv2.matchTemplate(img,template,cv2.TM_CCOEFF_NORMED)\n",
    "threshold = 0.42\n",
    "loc = np.where( res >= threshold)\n",
    "for pt in zip(*loc[::-1]):\n",
    "\n",
    "    img=cv2.rectangle(img, pt, (pt[0] + w, pt[1] + h), (255,0,0), 2)\n",
    "\n",
    "cv2.imshow('img',img)     \n",
    "cv2.waitKey(0)\n",
    "cv2.destroyAllWindows()"
   ]
  },
  {
   "cell_type": "code",
   "execution_count": null,
   "metadata": {},
   "outputs": [],
   "source": []
  }
 ],
 "metadata": {
  "kernelspec": {
   "display_name": "Python 3",
   "language": "python",
   "name": "python3"
  },
  "language_info": {
   "codemirror_mode": {
    "name": "ipython",
    "version": 3
   },
   "file_extension": ".py",
   "mimetype": "text/x-python",
   "name": "python",
   "nbconvert_exporter": "python",
   "pygments_lexer": "ipython3",
   "version": "3.7.3"
  }
 },
 "nbformat": 4,
 "nbformat_minor": 2
}
